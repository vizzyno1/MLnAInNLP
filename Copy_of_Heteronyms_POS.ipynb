{
  "nbformat": 4,
  "nbformat_minor": 0,
  "metadata": {
    "colab": {
      "name": "Copy of Heteronyms_POS.ipynb",
      "provenance": [],
      "collapsed_sections": [],
      "include_colab_link": true
    },
    "kernelspec": {
      "name": "python3",
      "display_name": "Python 3"
    },
    "language_info": {
      "name": "python"
    }
  },
  "cells": [
    {
      "cell_type": "markdown",
      "metadata": {
        "id": "view-in-github",
        "colab_type": "text"
      },
      "source": [
        "<a href=\"https://colab.research.google.com/github/vizzyno1/MLnAInNLP/blob/main/Copy_of_Heteronyms_POS.ipynb\" target=\"_parent\"><img src=\"https://colab.research.google.com/assets/colab-badge.svg\" alt=\"Open In Colab\"/></a>"
      ]
    },
    {
      "cell_type": "markdown",
      "metadata": {
        "id": "C5jJ9kQzPjge"
      },
      "source": [
        "**Heteronyms** are the words that have same spelling but mean different things when pronounced differently. \n",
        "\n",
        "\n",
        "- Recall the word *lead* from the lectures. It can refer to the metal lead or the act of leadership. The two pronounciations have different meanings.\n",
        "\n",
        "- For machine translation systems or text to speech systems, the ability to identify the correct sense of the word is crucial.\n",
        "\n",
        "\n"
      ]
    },
    {
      "cell_type": "markdown",
      "metadata": {
        "id": "sHvYVoL7i7_a"
      },
      "source": [
        "Let us have a look at this example:\n",
        "\n",
        "https://translate.google.com/?sl=en&tl=hi&text=She%20wished%20she%20could%20desert%20him%20in%20the%20desert.%0A&op=translate\n",
        "\n",
        "Example taken from: http://www-personal.umich.edu/~cellis/heteronym.html\n"
      ]
    },
    {
      "cell_type": "code",
      "metadata": {
        "id": "foKQ_tmOEca0"
      },
      "source": [
        "# Import SpaCy library\n",
        "import spacy "
      ],
      "execution_count": null,
      "outputs": []
    },
    {
      "cell_type": "code",
      "metadata": {
        "id": "YRtKtXi9kC72"
      },
      "source": [
        "# Load pre-trained SpaCy model for performing basic \n",
        "# NLP tasks such as POS tagging, parsing, etc.\n",
        "model = spacy.load(\"en_core_web_sm\")"
      ],
      "execution_count": null,
      "outputs": []
    },
    {
      "cell_type": "code",
      "metadata": {
        "id": "yjtQ_cgdk3pn"
      },
      "source": [
        "#Use the model to process the input sentence\n",
        "tokens = model(\"She wished she could desert him in the desert.\")"
      ],
      "execution_count": null,
      "outputs": []
    },
    {
      "cell_type": "code",
      "metadata": {
        "colab": {
          "base_uri": "https://localhost:8080/"
        },
        "id": "gXtwtkrflcPF",
        "outputId": "b6601690-9970-4e18-bcd8-b60d29a643a5"
      },
      "source": [
        "# Print the tokens and their respective PoS tags.\n",
        "for token in tokens:\n",
        "    print(token.text, \"--\", token.pos_, \"--\", token.tag_)"
      ],
      "execution_count": null,
      "outputs": [
        {
          "output_type": "stream",
          "text": [
            "She -- PRON -- PRP\n",
            "wished -- VERB -- VBD\n",
            "she -- PRON -- PRP\n",
            "could -- VERB -- MD\n",
            "desert -- VERB -- VB\n",
            "him -- PRON -- PRP\n",
            "in -- ADP -- IN\n",
            "the -- DET -- DT\n",
            "desert -- NOUN -- NN\n",
            ". -- PUNCT -- .\n"
          ],
          "name": "stdout"
        }
      ]
    },
    {
      "cell_type": "markdown",
      "metadata": {
        "id": "G5YMNqqF-sHl"
      },
      "source": [
        "Note here that in the above example, the two instances of *desert* have different PoS tags and hence, the text to speech system can use this information to generate the correct pronounciation. \n",
        "\n",
        "The above task is a specific example of the larger NLP problem called Word Sense Disambiguation (WSD). For words that have more than one meaning, WSD is the problem of identifying the correct meaning of the word based on the context in which the word is used.\n",
        "\n"
      ]
    },
    {
      "cell_type": "markdown",
      "metadata": {
        "id": "gJMNHvrRx-rA"
      },
      "source": [
        "Note that this technique will not work when the different meanings have the same PoS tags.\n",
        "\n",
        "https://translate.google.com/?sl=en&tl=hi&text=The%20bass%20swam%20around%20the%20bass%20drum%20on%20the%20ocean%20floor.&op=translate"
      ]
    },
    {
      "cell_type": "code",
      "metadata": {
        "id": "Xd8l1zfNmgQz",
        "colab": {
          "base_uri": "https://localhost:8080/"
        },
        "outputId": "4d042e12-87d7-42e2-936a-10cbd577873e"
      },
      "source": [
        "# Let's take a new example.\n",
        "tokens = model(\"The bass swam around the bass drum on the ocean floor\")\n",
        "for token in tokens:\n",
        "    print(token.text, \"--\", token.pos_, \"--\", token.tag_)"
      ],
      "execution_count": null,
      "outputs": [
        {
          "output_type": "stream",
          "text": [
            "The -- DET -- DT\n",
            "bass -- NOUN -- NN\n",
            "swam -- PROPN -- NNP\n",
            "around -- ADP -- IN\n",
            "the -- DET -- DT\n",
            "bass -- NOUN -- NN\n",
            "drum -- NOUN -- NN\n",
            "on -- ADP -- IN\n",
            "the -- DET -- DT\n",
            "ocean -- NOUN -- NN\n",
            "floor -- NOUN -- NN\n"
          ],
          "name": "stdout"
        }
      ]
    },
    {
      "cell_type": "code",
      "metadata": {
        "id": "3IHqXulWJYVj",
        "colab": {
          "base_uri": "https://localhost:8080/"
        },
        "outputId": "5ca58b8d-5837-43bd-987b-99e0734cc59e"
      },
      "source": [
        "# Let's take a new example.\n",
        "tokens = model(\"UpGrad is teaching Data Science courses to the working professionals.\")\n",
        "for token in tokens:\n",
        "    print(token.text, \"--\", token.pos_, \"--\", token.tag_)"
      ],
      "execution_count": null,
      "outputs": [
        {
          "output_type": "stream",
          "text": [
            "UpGrad -- PROPN -- NNP\n",
            "is -- AUX -- VBZ\n",
            "teaching -- VERB -- VBG\n",
            "Data -- NOUN -- NNS\n",
            "Science -- PROPN -- NNP\n",
            "courses -- NOUN -- NNS\n",
            "to -- ADP -- IN\n",
            "the -- DET -- DT\n",
            "working -- VERB -- VBG\n",
            "professionals -- NOUN -- NNS\n",
            ". -- PUNCT -- .\n"
          ],
          "name": "stdout"
        }
      ]
    },
    {
      "cell_type": "code",
      "metadata": {
        "colab": {
          "base_uri": "https://localhost:8080/"
        },
        "id": "g_BPVHRr_pFq",
        "outputId": "70ca7c52-c9bb-4d46-8691-5f1b5dd829ea"
      },
      "source": [
        "# Let's take a new example.\n",
        "tokens = model(\"Apple is looking at buying UK-based start-up for $1 billion\")\n",
        "for token in tokens:\n",
        "    print(token.text, \"--\", token.pos_, \"--\", token.tag_)"
      ],
      "execution_count": null,
      "outputs": [
        {
          "output_type": "stream",
          "text": [
            "Apple -- PROPN -- NNP\n",
            "is -- AUX -- VBZ\n",
            "looking -- VERB -- VBG\n",
            "at -- ADP -- IN\n",
            "buying -- VERB -- VBG\n",
            "UK -- PROPN -- NNP\n",
            "- -- PUNCT -- HYPH\n",
            "based -- VERB -- VBN\n",
            "start -- NOUN -- NN\n",
            "- -- PUNCT -- HYPH\n",
            "up -- NOUN -- NN\n",
            "for -- ADP -- IN\n",
            "$ -- SYM -- $\n",
            "1 -- NUM -- CD\n",
            "billion -- NUM -- CD\n"
          ],
          "name": "stdout"
        }
      ]
    },
    {
      "cell_type": "code",
      "metadata": {
        "id": "DerhCdqsAFV1"
      },
      "source": [
        ""
      ],
      "execution_count": null,
      "outputs": []
    }
  ]
}